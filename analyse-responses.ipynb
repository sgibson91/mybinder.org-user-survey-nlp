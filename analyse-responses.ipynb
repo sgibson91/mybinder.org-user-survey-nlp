{
 "cells": [
  {
   "cell_type": "markdown",
   "metadata": {},
   "source": [
    "# Analysing the February 2020 mybinder.org user survey responses"
   ]
  },
  {
   "cell_type": "code",
   "execution_count": null,
   "metadata": {},
   "outputs": [],
   "source": [
    "import numpy as np\n",
    "import pandas as pd\n",
    "import matplotlib.pyplot as plt\n",
    "from collections import Counter\n",
    "\n",
    "%matplotlib inline"
   ]
  },
  {
   "cell_type": "code",
   "execution_count": null,
   "metadata": {},
   "outputs": [],
   "source": [
    "# Load in the data\n",
    "resps = pd.read_csv(\n",
    "    \"data/mybinder.org-user-survey-feb-2020.csv\",\n",
    "    header=0,\n",
    "    names=[\"Timestamp\", \"Q1\", \"Q2\", \"Q3\"],\n",
    ")\n",
    "\n",
    "# Get questions for plot titles\n",
    "with open(\"data/mybinder.org-user-survey-feb-2020.csv\", \"r\") as f:\n",
    "    titles = f.readline().strip(\"\\n\").split('\"')\n",
    "\n",
    "titles = list(\n",
    "    filter(lambda a: a != \"\" and a != \",\" and a != \"Timestamp\", titles)\n",
    ")\n",
    "\n",
    "# Calculate total number of responses\n",
    "total_resps = len(resps)\n",
    "print(f\"Total number of responses to the survey: {total_resps}\")"
   ]
  },
  {
   "cell_type": "markdown",
   "metadata": {},
   "source": [
    "## Q1. Would you recommend mybinder.org to a friend?"
   ]
  },
  {
   "cell_type": "code",
   "execution_count": null,
   "metadata": {},
   "outputs": [],
   "source": [
    "# Count the Yes/No/Maybe responses for Question 1\n",
    "bar_plot_dict = dict(Counter(resps[\"Q1\"]))\n",
    "\n",
    "# Remove NAN values\n",
    "try:\n",
    "    del bar_plot_dict[np.nan]\n",
    "except KeyError:\n",
    "    pass\n",
    "\n",
    "# Create a bar plot of results\n",
    "bar_plot_df = pd.Series(bar_plot_dict)\n",
    "bar_plot_df.sort_values(ascending=False, inplace=True)\n",
    "bar_plot_df.plot(kind=\"bar\", title=titles[0]);"
   ]
  },
  {
   "cell_type": "markdown",
   "metadata": {},
   "source": [
    "## Q3. What do you (mainly) use mybinder.org for?"
   ]
  },
  {
   "cell_type": "code",
   "execution_count": null,
   "metadata": {},
   "outputs": [],
   "source": [
    "\"\"\"\n",
    "Categories available for Question 3:\n",
    "\n",
    "- Reproducible publishing\n",
    "- Pre-university teaching\n",
    "- University teaching\n",
    "- Workshops/training courses\n",
    "- Demos and talks\n",
    "- Documentation and examples\n",
    "- Sharing and collaborating with a team\n",
    "- Other\n",
    "\"\"\"\n",
    "# Count categorical responses to Question 3\n",
    "raw_dict = dict(Counter(resps[\"Q3\"]))\n",
    "\n",
    "# Remove NAN values\n",
    "try:\n",
    "    del raw_dict[np.nan]\n",
    "except KeyError:\n",
    "    pass\n",
    "\n",
    "# Filter out the defined categories\n",
    "categories = [key for key, value in raw_dict.items() if value >= 10]\n",
    "\n",
    "# Construct a dictionary with non-specified answers concatenated into \"Other\"\n",
    "concat_dict = {\"Other\": 0}\n",
    "for key, value in raw_dict.items():\n",
    "    if key in categories:\n",
    "        concat_dict[key] = value\n",
    "    else:\n",
    "        concat_dict[\"Other\"] += 1\n",
    "\n",
    "# Create pie plot of results\n",
    "concat_df = pd.Series(concat_dict)\n",
    "concat_df.sort_values(ascending=False, inplace=True)\n",
    "concat_df.plot(kind=\"pie\", title=titles[2])\n",
    "plt.ylabel(\"\");"
   ]
  },
  {
   "cell_type": "code",
   "execution_count": null,
   "metadata": {},
   "outputs": [],
   "source": []
  }
 ],
 "metadata": {
  "kernelspec": {
   "display_name": "Python 3.7.7 64-bit ('nlp-survey': conda)",
   "name": "python37764bitnlpsurveyconda88c13c2e474c4e03b11fd5808f4fbc45"
  },
  "language_info": {
   "codemirror_mode": {
    "name": "ipython",
    "version": 3
   },
   "file_extension": ".py",
   "mimetype": "text/x-python",
   "name": "python",
   "nbconvert_exporter": "python",
   "pygments_lexer": "ipython3",
   "version": "3.7.7-final"
  }
 },
 "nbformat": 4,
 "nbformat_minor": 2
}
