{
 "cells": [
  {
   "cell_type": "markdown",
   "metadata": {},
   "source": [
    "# Analysing the February 2020 mybinder.org user survey responses"
   ]
  },
  {
   "cell_type": "code",
   "execution_count": null,
   "metadata": {},
   "outputs": [],
   "source": [
    "import numpy as np\n",
    "import pandas as pd\n",
    "import matplotlib.pyplot as plt\n",
    "from collections import Counter\n",
    "\n",
    "%matplotlib inline"
   ]
  },
  {
   "cell_type": "code",
   "execution_count": null,
   "metadata": {},
   "outputs": [],
   "source": [
    "# Load in the data\n",
    "resps = pd.read_csv(\n",
    "    \"data/mybinder.org-user-survey-feb-2020.csv\",\n",
    "    header=0,\n",
    "    names=[\"Timestamp\", \"Q1\", \"Q2\", \"Q3\"],\n",
    ")\n",
    "\n",
    "# Get questions for plot titles\n",
    "with open(\"data/mybinder.org-user-survey-feb-2020.csv\", \"r\") as f:\n",
    "    titles = f.readline().strip(\"\\n\").split('\"')\n",
    "\n",
    "titles = list(\n",
    "    filter(lambda a: a != \"\" and a != \",\" and a != \"Timestamp\", titles)\n",
    ")"
   ]
  },
  {
   "cell_type": "markdown",
   "metadata": {},
   "source": [
    "## Q1. Would you recommend mybinder.org to a friend?"
   ]
  },
  {
   "cell_type": "code",
   "execution_count": null,
   "metadata": {},
   "outputs": [],
   "source": [
    "bar_plot_dict = dict(Counter(resps[\"Q1\"]))\n",
    "bar_plot_df = pd.Series(bar_plot_dict)\n",
    "bar_plot_df.sort_values(ascending=False, inplace=True)\n",
    "bar_plot_df.plot(kind=\"bar\", title=titles[0]);"
   ]
  },
  {
   "cell_type": "code",
   "execution_count": null,
   "metadata": {},
   "outputs": [],
   "source": []
  }
 ],
 "metadata": {
  "kernelspec": {
   "display_name": "Python 3.7.7 64-bit ('nlp-survey': conda)",
   "name": "python37764bitnlpsurveyconda88c13c2e474c4e03b11fd5808f4fbc45"
  },
  "language_info": {
   "codemirror_mode": {
    "name": "ipython",
    "version": 3
   },
   "file_extension": ".py",
   "mimetype": "text/x-python",
   "name": "python",
   "nbconvert_exporter": "python",
   "pygments_lexer": "ipython3",
   "version": "3.7.7-final"
  }
 },
 "nbformat": 4,
 "nbformat_minor": 2
}
